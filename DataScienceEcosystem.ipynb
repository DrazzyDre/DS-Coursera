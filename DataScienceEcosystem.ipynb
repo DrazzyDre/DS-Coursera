{
 "cells": [
  {
   "cell_type": "markdown",
   "id": "018c9c04",
   "metadata": {},
   "source": [
    "# Data Science Tools and Ecosystem"
   ]
  },
  {
   "cell_type": "markdown",
   "id": "c87deda9",
   "metadata": {},
   "source": [
    "In this notebook, Data Science Tools and Ecosystem are summarized."
   ]
  },
  {
   "cell_type": "markdown",
   "id": "e748b719",
   "metadata": {},
   "source": [
    "Some of the popular languages that Data Scientists use are:\n",
    "   1. Python\n",
    "   2. JavaScript\n",
    "   3. C\n",
    "   4. R\n",
    "   5. Java"
   ]
  },
  {
   "cell_type": "markdown",
   "id": "a8677d86",
   "metadata": {},
   "source": [
    "Some of the commonly used libraries used by Data Scientists include:\n",
    "1. Pandas\n",
    "2. NumPy\n",
    "3. Matplotlib"
   ]
  },
  {
   "cell_type": "markdown",
   "id": "a950c06f",
   "metadata": {},
   "source": [
    "\n",
    "| Data Science Tools |\n",
    "-------------------------------\n",
    "| Data Visualization |\n",
    "| Data Mining |\n",
    "| Data Manipulation|"
   ]
  },
  {
   "cell_type": "markdown",
   "id": "5f60a384",
   "metadata": {},
   "source": [
    "### Below are a few examples of evaluating arithmetic expressions in Python\n"
   ]
  },
  {
   "cell_type": "code",
   "execution_count": 2,
   "id": "d3861690",
   "metadata": {},
   "outputs": [
    {
     "name": "stdout",
     "output_type": "stream",
     "text": [
      "17\n"
     ]
    }
   ],
   "source": [
    "## This is a simple expression to multiply then add integers.\n",
    "\n",
    "result = (3*4)+5\n",
    "print(result)"
   ]
  },
  {
   "cell_type": "code",
   "execution_count": 3,
   "id": "b3f77fde",
   "metadata": {},
   "outputs": [
    {
     "name": "stdout",
     "output_type": "stream",
     "text": [
      "3.3333333333333335 hours\n"
     ]
    }
   ],
   "source": [
    "## This will convert 200 minutes to hours by dividing by 60\n",
    "\n",
    "hours = 200 / 60\n",
    "\n",
    "print(f\"{hours} hours\")"
   ]
  },
  {
   "cell_type": "markdown",
   "id": "31c46695",
   "metadata": {},
   "source": [
    "**Objectives:**\n",
    "  - List popular languages for Data Science\n",
    "  - Simple Arithmetic Expression\n",
    "  - Data Science Languages"
   ]
  },
  {
   "cell_type": "markdown",
   "id": "08da09c9",
   "metadata": {},
   "source": [
    "## Author\n",
    "Oluwadamilare Oyediran"
   ]
  },
  {
   "cell_type": "code",
   "execution_count": null,
   "id": "4a8e0d5c",
   "metadata": {},
   "outputs": [],
   "source": []
  }
 ],
 "metadata": {
  "kernelspec": {
   "display_name": "Python 3 (ipykernel)",
   "language": "python",
   "name": "python3"
  },
  "language_info": {
   "codemirror_mode": {
    "name": "ipython",
    "version": 3
   },
   "file_extension": ".py",
   "mimetype": "text/x-python",
   "name": "python",
   "nbconvert_exporter": "python",
   "pygments_lexer": "ipython3",
   "version": "3.11.5"
  }
 },
 "nbformat": 4,
 "nbformat_minor": 5
}
